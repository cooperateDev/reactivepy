{
 "cells": [
  {
   "cell_type": "code",
   "execution_count": 1,
   "metadata": {},
   "outputs": [
    {
     "name": "stderr",
     "output_type": "stream",
     "text": [
      "Entering capture context\n",
      "Module(body=[])\n",
      "Interactive(body=[\n",
      "    Expr(value=Num(n=0)),\n",
      "  ])\n",
      "0\n",
      "\n",
      "Exiting capture context\n"
     ]
    }
   ],
   "source": [
    "0"
   ]
  },
  {
   "cell_type": "code",
   "execution_count": 2,
   "metadata": {},
   "outputs": [
    {
     "name": "stderr",
     "output_type": "stream",
     "text": [
      "Entering capture context\n",
      "Module(body=[])\n",
      "Interactive(body=[\n",
      "    Expr(value=BinOp(left=Num(n=3), op=Add(), right=Num(n=4))),\n",
      "  ])\n",
      "7\n",
      "\n",
      "Exiting capture context\n"
     ]
    }
   ],
   "source": [
    "3 + 4"
   ]
  },
  {
   "cell_type": "code",
   "execution_count": 6,
   "metadata": {},
   "outputs": [
    {
     "name": "stderr",
     "output_type": "stream",
     "text": [
      "Entering capture context\n",
      "Module(body=[\n",
      "    Assign(targets=[\n",
      "        Name(id='a', ctx=Store()),\n",
      "      ], value=Num(n=3)),\n",
      "    Expr(value=Call(func=Name(id='print', ctx=Load()), args=[\n",
      "        Name(id='a', ctx=Load()),\n",
      "      ], keywords=[])),\n",
      "    Assign(targets=[\n",
      "        Name(id='a', ctx=Store()),\n",
      "      ], value=Num(n=4)),\n",
      "  ])\n",
      "3\n",
      "Interactive(body=[\n",
      "    Expr(value=Name(id='a', ctx=Load())),\n",
      "  ])\n",
      "4\n",
      "\n",
      "Exiting capture context\n"
     ]
    }
   ],
   "source": [
    "a = 3\n",
    "print(a)\n",
    "a = 4"
   ]
  },
  {
   "cell_type": "code",
   "execution_count": 4,
   "metadata": {},
   "outputs": [
    {
     "name": "stderr",
     "output_type": "stream",
     "text": [
      "Entering capture context\n",
      "Module(body=[])\n",
      "Interactive(body=[\n",
      "    Expr(value=Call(func=Name(id='print', ctx=Load()), args=[\n",
      "        Str(s='a'),\n",
      "      ], keywords=[])),\n",
      "  ])\n",
      "a\n",
      "None\n",
      "\n",
      "Exiting capture context\n"
     ]
    }
   ],
   "source": [
    "print('a')"
   ]
  },
  {
   "cell_type": "code",
   "execution_count": 5,
   "metadata": {},
   "outputs": [
    {
     "name": "stderr",
     "output_type": "stream",
     "text": [
      "Entering capture context\n",
      "Module(body=[])\n",
      "Interactive(body=[\n",
      "    Expr(value=Name(id='zxczxc', ctx=Load())),\n",
      "  ])\n",
      "\n",
      "Exiting capture context\n"
     ]
    }
   ],
   "source": [
    "zxczxc"
   ]
  },
  {
   "cell_type": "code",
   "execution_count": 6,
   "metadata": {},
   "outputs": [
    {
     "name": "stderr",
     "output_type": "stream",
     "text": [
      "Entering capture context\n",
      "Entering IO context\n",
      "returning STDOUT\n",
      "hi\n",
      "Expr(value=Num(n=34234234))\n",
      "\n",
      "hi\n",
      "Expr(value=Num(n=34234234))\n",
      "\n",
      "Exiting capture context\n"
     ]
    }
   ],
   "source": [
    "34234234"
   ]
  },
  {
   "cell_type": "code",
   "execution_count": null,
   "metadata": {},
   "outputs": [
    {
     "name": "stderr",
     "output_type": "stream",
     "text": [
      "Entering capture context\n",
      "Entering IO context\n",
      "Exiting capture context\n"
     ]
    },
    {
     "ename": "SyntaxError",
     "evalue": "can't assign to literal (<unknown>, line 1)",
     "output_type": "error",
     "traceback": [
      "Traceback (most recent call last):",
      "  File \"/Users/richagadgil/Desktop/reactive-kernel/reactive_kernel/kernel.py\", line 37, in do_execute",
      "    self.innerKernel._run_cell(code)",
      "  File \"/Users/richagadgil/Desktop/reactive-kernel/reactive_kernel/execute.py\", line 22, in _run_cell",
      "    code_ast = ast.parse(code)",
      "  File \"/anaconda3/envs/kernel-bash/lib/python3.6/ast.py\", line 35, in parse",
      "    return compile(source, filename, mode, PyCF_ONLY_AST)",
      "  File \"<unknown>\", line 1",
      "SyntaxError: can't assign to literal"
     ]
    }
   ],
   "source": [
    "3 = 3423400"
   ]
  },
  {
   "cell_type": "code",
   "execution_count": null,
   "metadata": {},
   "outputs": [],
   "source": []
  },
  {
   "cell_type": "code",
   "execution_count": null,
   "metadata": {},
   "outputs": [],
   "source": []
  },
  {
   "cell_type": "code",
   "execution_count": null,
   "metadata": {},
   "outputs": [],
   "source": [
    "00"
   ]
  }
 ],
 "metadata": {
  "kernelspec": {
   "display_name": "Reactive Python",
   "language": "python",
   "name": "reactive_kernel"
  },
  "language_info": {
   "file_extension": ".py",
   "mimetype": "text/x-python",
   "name": "python",
   "nbconvert_exporter": "python",
   "version": "3.6.6"
  }
 },
 "nbformat": 4,
 "nbformat_minor": 2
}
