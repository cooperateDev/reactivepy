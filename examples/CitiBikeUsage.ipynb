{
 "cells": [
  {
   "cell_type": "markdown",
   "metadata": {},
   "source": [
    "# CityBike Usage Live Feed"
   ]
  },
  {
   "cell_type": "markdown",
   "metadata": {},
   "source": [
    "This URL points to a JSON endpoint that contains information about every CitiBike station in New York. It updates every 10 seconds, and contains such information as # of ebikes available, # of regular bikes available, # of open docks available, etc."
   ]
  },
  {
   "cell_type": "code",
   "execution_count": 1,
   "metadata": {},
   "outputs": [
    {
     "data": {
      "text/plain": [
       "'https://gbfs.citibikenyc.com/gbfs/en/station_status.json'"
      ]
     },
     "metadata": {},
     "output_type": "display_data"
    }
   ],
   "source": [
    "STATION_INFORMATION_URL = 'https://gbfs.citibikenyc.com/gbfs/en/station_status.json'"
   ]
  },
  {
   "cell_type": "markdown",
   "metadata": {},
   "source": [
    "Control how often the REST endpoint should be queried, keeping in mind that new data is only available every 10 seconds."
   ]
  },
  {
   "cell_type": "code",
   "execution_count": 2,
   "metadata": {},
   "outputs": [
    {
     "data": {
      "text/plain": [
       "5"
      ]
     },
     "metadata": {},
     "output_type": "display_data"
    }
   ],
   "source": [
    "REPEAT_RATE = 5"
   ]
  },
  {
   "cell_type": "code",
   "execution_count": 3,
   "metadata": {},
   "outputs": [],
   "source": [
    "import aiohttp\n",
    "import asyncio\n",
    "import json\n",
    "import datetime as dt\n",
    "import pandas as pd\n",
    "import altair as alt"
   ]
  },
  {
   "cell_type": "code",
   "execution_count": 4,
   "metadata": {},
   "outputs": [],
   "source": [
    "async def fetch(session, url):\n",
    "    async with session.get(url) as response:\n",
    "        return await response.text()"
   ]
  },
  {
   "cell_type": "code",
   "execution_count": 5,
   "metadata": {},
   "outputs": [],
   "source": [
    "async def load_data():\n",
    "    async with aiohttp.ClientSession() as session:\n",
    "        raw_json = await fetch(session, STATION_INFORMATION_URL)\n",
    "        return json.loads(raw_json)"
   ]
  },
  {
   "cell_type": "code",
   "execution_count": 6,
   "metadata": {},
   "outputs": [],
   "source": [
    "async def transform_data_iter():\n",
    "    while True:\n",
    "        bike_data = await load_data()\n",
    "        total_available_bikes = sum(map(lambda s: s['num_bikes_available'],\n",
    "                                        bike_data['data']['stations']))\n",
    "        yield {'total_bikes': total_available_bikes, 'time': dt.datetime.now()}\n",
    "        \n",
    "        await asyncio.sleep(REPEAT_RATE)"
   ]
  },
  {
   "cell_type": "code",
   "execution_count": 7,
   "metadata": {},
   "outputs": [],
   "source": [
    "def plot(full_data, baseline):\n",
    "    df = pd.DataFrame(full_data, columns=['time', 'total_bikes'])\n",
    "    \n",
    "    chart = alt.Chart(df).mark_line().encode(\n",
    "        x=alt.X('time:T', axis=alt.Axis(title='Time')),\n",
    "        y=alt.Y('total_bikes:Q',\n",
    "                axis=alt.Axis(title='Total Available Bikes'),\n",
    "                scale=alt.Scale(zero=False))\n",
    "    ).configure_view(\n",
    "        width=600,\n",
    "    ).properties(\n",
    "        title='Total Available CitiBikes in New York'\n",
    "    )\n",
    "    \n",
    "    return chart"
   ]
  },
  {
   "cell_type": "code",
   "execution_count": 8,
   "metadata": {},
   "outputs": [
    {
     "data": {
      "text/plain": [
       "[]"
      ]
     },
     "metadata": {},
     "output_type": "display_data"
    }
   ],
   "source": [
    "full_data_feed = list()"
   ]
  },
  {
   "cell_type": "code",
   "execution_count": 9,
   "metadata": {},
   "outputs": [
    {
     "data": {
      "text/plain": [
       "{'total_bikes': 5342,\n",
       " 'time': datetime.datetime(2018, 10, 2, 11, 10, 29, 972507)}"
      ]
     },
     "metadata": {},
     "output_type": "display_data"
    }
   ],
   "source": [
    "bike_data_item = transform_data_iter()"
   ]
  },
  {
   "cell_type": "markdown",
   "metadata": {},
   "source": [
    "## Realtime Plot"
   ]
  },
  {
   "cell_type": "code",
   "execution_count": 10,
   "metadata": {},
   "outputs": [
    {
     "data": {
      "text/plain": [
       "300 items\n"
      ]
     },
     "metadata": {},
     "output_type": "display_data"
    },
    {
     "data": {
      "application/vnd.vegalite.v2+json": {
       "$schema": "https://vega.github.io/schema/vega-lite/v2.6.0.json",
       "config": {
        "view": {
         "height": 300,
         "width": 600
        }
       },
       "data": {
        "name": "data-ac5d22bd2db24e9061cc5625aa196b1f"
       },
       "datasets": {
        "data-ac5d22bd2db24e9061cc5625aa196b1f": [
         {
          "time": "2018-10-02T10:44:01.089976",
          "total_bikes": 5333
         },
         {
          "time": "2018-10-02T10:44:06.421649",
          "total_bikes": 5312
         },
         {
          "time": "2018-10-02T10:44:11.760182",
          "total_bikes": 5313
         },
         {
          "time": "2018-10-02T10:44:16.891240",
          "total_bikes": 5313
         },
         {
          "time": "2018-10-02T10:44:22.436699",
          "total_bikes": 5318
         },
         {
          "time": "2018-10-02T10:44:27.551092",
          "total_bikes": 5318
         },
         {
          "time": "2018-10-02T10:44:33.293463",
          "total_bikes": 5312
         },
         {
          "time": "2018-10-02T10:44:38.419122",
          "total_bikes": 5312
         },
         {
          "time": "2018-10-02T10:44:44.044177",
          "total_bikes": 5311
         },
         {
          "time": "2018-10-02T10:44:49.203068",
          "total_bikes": 5311
         },
         {
          "time": "2018-10-02T10:44:54.754604",
          "total_bikes": 5308
         },
         {
          "time": "2018-10-02T10:44:59.878481",
          "total_bikes": 5308
         },
         {
          "time": "2018-10-02T10:45:05.445484",
          "total_bikes": 5313
         },
         {
          "time": "2018-10-02T10:45:10.591931",
          "total_bikes": 5313
         },
         {
          "time": "2018-10-02T10:45:15.956300",
          "total_bikes": 5318
         },
         {
          "time": "2018-10-02T10:45:21.093204",
          "total_bikes": 5318
         },
         {
          "time": "2018-10-02T10:45:26.744977",
          "total_bikes": 5320
         },
         {
          "time": "2018-10-02T10:45:31.890680",
          "total_bikes": 5320
         },
         {
          "time": "2018-10-02T10:45:37.160800",
          "total_bikes": 5317
         },
         {
          "time": "2018-10-02T10:45:42.315757",
          "total_bikes": 5317
         },
         {
          "time": "2018-10-02T10:45:47.807214",
          "total_bikes": 5310
         },
         {
          "time": "2018-10-02T10:45:52.964382",
          "total_bikes": 5310
         },
         {
          "time": "2018-10-02T10:45:58.316509",
          "total_bikes": 5303
         },
         {
          "time": "2018-10-02T10:46:03.464753",
          "total_bikes": 5303
         },
         {
          "time": "2018-10-02T10:46:08.623282",
          "total_bikes": 5303
         },
         {
          "time": "2018-10-02T10:46:13.949132",
          "total_bikes": 5303
         },
         {
          "time": "2018-10-02T10:46:19.077891",
          "total_bikes": 5303
         },
         {
          "time": "2018-10-02T10:46:24.427678",
          "total_bikes": 5300
         },
         {
          "time": "2018-10-02T10:46:29.540631",
          "total_bikes": 5300
         },
         {
          "time": "2018-10-02T10:46:34.859637",
          "total_bikes": 5300
         },
         {
          "time": "2018-10-02T10:46:39.984672",
          "total_bikes": 5300
         },
         {
          "time": "2018-10-02T10:46:45.298018",
          "total_bikes": 5301
         },
         {
          "time": "2018-10-02T10:46:50.430060",
          "total_bikes": 5301
         },
         {
          "time": "2018-10-02T10:46:55.919580",
          "total_bikes": 5298
         },
         {
          "time": "2018-10-02T10:47:01.041571",
          "total_bikes": 5298
         },
         {
          "time": "2018-10-02T10:47:06.685861",
          "total_bikes": 5296
         },
         {
          "time": "2018-10-02T10:47:12.245412",
          "total_bikes": 5296
         },
         {
          "time": "2018-10-02T10:47:17.588317",
          "total_bikes": 5296
         },
         {
          "time": "2018-10-02T10:47:22.721738",
          "total_bikes": 5296
         },
         {
          "time": "2018-10-02T10:47:28.089964",
          "total_bikes": 5302
         },
         {
          "time": "2018-10-02T10:47:33.223948",
          "total_bikes": 5302
         },
         {
          "time": "2018-10-02T10:47:38.553372",
          "total_bikes": 5305
         },
         {
          "time": "2018-10-02T10:47:43.686304",
          "total_bikes": 5305
         },
         {
          "time": "2018-10-02T10:47:49.004460",
          "total_bikes": 5302
         },
         {
          "time": "2018-10-02T10:47:54.128453",
          "total_bikes": 5302
         },
         {
          "time": "2018-10-02T10:47:59.431586",
          "total_bikes": 5302
         },
         {
          "time": "2018-10-02T10:48:04.559062",
          "total_bikes": 5296
         },
         {
          "time": "2018-10-02T10:48:09.689296",
          "total_bikes": 5296
         },
         {
          "time": "2018-10-02T10:48:15.020078",
          "total_bikes": 5296
         },
         {
          "time": "2018-10-02T10:48:20.363889",
          "total_bikes": 5296
         },
         {
          "time": "2018-10-02T10:48:25.656605",
          "total_bikes": 5301
         },
         {
          "time": "2018-10-02T10:48:30.761063",
          "total_bikes": 5301
         },
         {
          "time": "2018-10-02T10:48:36.186020",
          "total_bikes": 5299
         },
         {
          "time": "2018-10-02T10:48:41.309536",
          "total_bikes": 5299
         },
         {
          "time": "2018-10-02T10:48:46.834128",
          "total_bikes": 5305
         },
         {
          "time": "2018-10-02T10:48:51.936874",
          "total_bikes": 5305
         },
         {
          "time": "2018-10-02T10:48:57.389611",
          "total_bikes": 5313
         },
         {
          "time": "2018-10-02T10:49:02.489234",
          "total_bikes": 5313
         },
         {
          "time": "2018-10-02T10:49:07.775457",
          "total_bikes": 5312
         },
         {
          "time": "2018-10-02T10:49:12.881147",
          "total_bikes": 5312
         },
         {
          "time": "2018-10-02T10:49:18.989269",
          "total_bikes": 5317
         },
         {
          "time": "2018-10-02T10:49:24.117652",
          "total_bikes": 5317
         },
         {
          "time": "2018-10-02T10:49:29.452205",
          "total_bikes": 5319
         },
         {
          "time": "2018-10-02T10:49:34.576112",
          "total_bikes": 5319
         },
         {
          "time": "2018-10-02T10:49:40.186067",
          "total_bikes": 5319
         },
         {
          "time": "2018-10-02T10:49:45.332864",
          "total_bikes": 5319
         },
         {
          "time": "2018-10-02T10:49:50.649472",
          "total_bikes": 5308
         },
         {
          "time": "2018-10-02T10:49:55.827157",
          "total_bikes": 5308
         },
         {
          "time": "2018-10-02T10:50:01.487145",
          "total_bikes": 5308
         },
         {
          "time": "2018-10-02T10:50:06.605993",
          "total_bikes": 5308
         },
         {
          "time": "2018-10-02T10:50:11.921863",
          "total_bikes": 5294
         },
         {
          "time": "2018-10-02T10:50:17.048218",
          "total_bikes": 5294
         },
         {
          "time": "2018-10-02T10:50:23.094040",
          "total_bikes": 5284
         },
         {
          "time": "2018-10-02T10:50:28.219131",
          "total_bikes": 5284
         },
         {
          "time": "2018-10-02T10:50:33.742538",
          "total_bikes": 5276
         },
         {
          "time": "2018-10-02T10:50:38.867331",
          "total_bikes": 5276
         },
         {
          "time": "2018-10-02T10:50:44.494085",
          "total_bikes": 5271
         },
         {
          "time": "2018-10-02T10:50:49.621211",
          "total_bikes": 5271
         },
         {
          "time": "2018-10-02T10:50:54.955385",
          "total_bikes": 5272
         },
         {
          "time": "2018-10-02T10:51:00.284467",
          "total_bikes": 5272
         },
         {
          "time": "2018-10-02T10:51:05.640062",
          "total_bikes": 5260
         },
         {
          "time": "2018-10-02T10:51:10.769346",
          "total_bikes": 5260
         },
         {
          "time": "2018-10-02T10:51:16.107723",
          "total_bikes": 5260
         },
         {
          "time": "2018-10-02T10:51:21.255984",
          "total_bikes": 5260
         },
         {
          "time": "2018-10-02T10:51:27.300312",
          "total_bikes": 5253
         },
         {
          "time": "2018-10-02T10:51:32.405790",
          "total_bikes": 5253
         },
         {
          "time": "2018-10-02T10:51:37.949180",
          "total_bikes": 5251
         },
         {
          "time": "2018-10-02T10:51:43.054044",
          "total_bikes": 5251
         },
         {
          "time": "2018-10-02T10:51:48.361956",
          "total_bikes": 5246
         },
         {
          "time": "2018-10-02T10:51:53.477789",
          "total_bikes": 5246
         },
         {
          "time": "2018-10-02T10:51:58.940768",
          "total_bikes": 5249
         },
         {
          "time": "2018-10-02T10:52:04.045079",
          "total_bikes": 5249
         },
         {
          "time": "2018-10-02T10:52:09.520152",
          "total_bikes": 5247
         },
         {
          "time": "2018-10-02T10:52:14.618192",
          "total_bikes": 5247
         },
         {
          "time": "2018-10-02T10:52:19.930058",
          "total_bikes": 5245
         },
         {
          "time": "2018-10-02T10:52:25.223493",
          "total_bikes": 5257
         },
         {
          "time": "2018-10-02T10:52:30.945938",
          "total_bikes": 5257
         },
         {
          "time": "2018-10-02T10:52:36.250462",
          "total_bikes": 5259
         },
         {
          "time": "2018-10-02T10:52:41.539968",
          "total_bikes": 5259
         },
         {
          "time": "2018-10-02T10:52:46.857189",
          "total_bikes": 5260
         },
         {
          "time": "2018-10-02T10:52:51.958948",
          "total_bikes": 5260
         },
         {
          "time": "2018-10-02T10:52:57.181522",
          "total_bikes": 5260
         },
         {
          "time": "2018-10-02T10:53:02.707494",
          "total_bikes": 5273
         },
         {
          "time": "2018-10-02T10:53:07.832490",
          "total_bikes": 5273
         },
         {
          "time": "2018-10-02T10:53:13.125060",
          "total_bikes": 5273
         },
         {
          "time": "2018-10-02T10:53:18.464781",
          "total_bikes": 5269
         },
         {
          "time": "2018-10-02T10:53:23.758375",
          "total_bikes": 5269
         },
         {
          "time": "2018-10-02T10:53:28.870565",
          "total_bikes": 5269
         },
         {
          "time": "2018-10-02T10:53:34.679684",
          "total_bikes": 5265
         },
         {
          "time": "2018-10-02T10:53:40.023848",
          "total_bikes": 5265
         },
         {
          "time": "2018-10-02T10:53:45.171854",
          "total_bikes": 5265
         },
         {
          "time": "2018-10-02T10:53:50.507321",
          "total_bikes": 5270
         },
         {
          "time": "2018-10-02T10:53:55.666542",
          "total_bikes": 5270
         },
         {
          "time": "2018-10-02T10:54:01.033167",
          "total_bikes": 5284
         },
         {
          "time": "2018-10-02T10:54:06.180439",
          "total_bikes": 5284
         },
         {
          "time": "2018-10-02T10:54:11.766097",
          "total_bikes": 5279
         },
         {
          "time": "2018-10-02T10:54:16.921005",
          "total_bikes": 5279
         },
         {
          "time": "2018-10-02T10:54:22.507167",
          "total_bikes": 5283
         },
         {
          "time": "2018-10-02T10:54:27.640911",
          "total_bikes": 5283
         },
         {
          "time": "2018-10-02T10:54:32.991073",
          "total_bikes": 5280
         },
         {
          "time": "2018-10-02T10:54:38.171105",
          "total_bikes": 5280
         },
         {
          "time": "2018-10-02T10:54:43.505762",
          "total_bikes": 5285
         },
         {
          "time": "2018-10-02T10:54:48.840647",
          "total_bikes": 5285
         },
         {
          "time": "2018-10-02T10:54:54.454164",
          "total_bikes": 5283
         },
         {
          "time": "2018-10-02T10:54:59.580469",
          "total_bikes": 5283
         },
         {
          "time": "2018-10-02T10:55:04.887137",
          "total_bikes": 5283
         },
         {
          "time": "2018-10-02T10:55:10.033253",
          "total_bikes": 5283
         },
         {
          "time": "2018-10-02T10:55:15.652980",
          "total_bikes": 5287
         },
         {
          "time": "2018-10-02T10:55:20.785196",
          "total_bikes": 5287
         },
         {
          "time": "2018-10-02T10:55:26.108832",
          "total_bikes": 5290
         },
         {
          "time": "2018-10-02T10:55:31.238199",
          "total_bikes": 5290
         },
         {
          "time": "2018-10-02T10:55:36.849034",
          "total_bikes": 5296
         },
         {
          "time": "2018-10-02T10:55:42.438506",
          "total_bikes": 5296
         },
         {
          "time": "2018-10-02T10:55:48.015896",
          "total_bikes": 5290
         },
         {
          "time": "2018-10-02T10:55:53.156819",
          "total_bikes": 5290
         },
         {
          "time": "2018-10-02T10:55:58.334973",
          "total_bikes": 5296
         },
         {
          "time": "2018-10-02T10:56:03.482947",
          "total_bikes": 5296
         },
         {
          "time": "2018-10-02T10:56:08.828231",
          "total_bikes": 5288
         },
         {
          "time": "2018-10-02T10:56:13.985598",
          "total_bikes": 5288
         },
         {
          "time": "2018-10-02T10:56:19.324360",
          "total_bikes": 5283
         },
         {
          "time": "2018-10-02T10:56:24.467721",
          "total_bikes": 5283
         },
         {
          "time": "2018-10-02T10:56:30.098562",
          "total_bikes": 5288
         },
         {
          "time": "2018-10-02T10:56:35.244646",
          "total_bikes": 5288
         },
         {
          "time": "2018-10-02T10:56:40.591846",
          "total_bikes": 5288
         },
         {
          "time": "2018-10-02T10:56:46.354389",
          "total_bikes": 5285
         },
         {
          "time": "2018-10-02T10:56:51.994230",
          "total_bikes": 5292
         },
         {
          "time": "2018-10-02T10:56:57.131865",
          "total_bikes": 5292
         },
         {
          "time": "2018-10-02T10:57:02.283931",
          "total_bikes": 5297
         },
         {
          "time": "2018-10-02T10:57:07.650095",
          "total_bikes": 5297
         },
         {
          "time": "2018-10-02T10:57:13.000644",
          "total_bikes": 5299
         },
         {
          "time": "2018-10-02T10:57:18.145064",
          "total_bikes": 5299
         },
         {
          "time": "2018-10-02T10:57:23.756493",
          "total_bikes": 5300
         },
         {
          "time": "2018-10-02T10:57:28.920288",
          "total_bikes": 5300
         },
         {
          "time": "2018-10-02T10:57:34.406474",
          "total_bikes": 5301
         },
         {
          "time": "2018-10-02T10:57:39.558978",
          "total_bikes": 5301
         },
         {
          "time": "2018-10-02T10:57:44.898417",
          "total_bikes": 5307
         },
         {
          "time": "2018-10-02T10:57:50.443748",
          "total_bikes": 5307
         },
         {
          "time": "2018-10-02T10:57:55.792153",
          "total_bikes": 5307
         },
         {
          "time": "2018-10-02T10:58:00.942853",
          "total_bikes": 5308
         },
         {
          "time": "2018-10-02T10:58:06.264110",
          "total_bikes": 5308
         },
         {
          "time": "2018-10-02T10:58:11.583050",
          "total_bikes": 5305
         },
         {
          "time": "2018-10-02T10:58:16.725715",
          "total_bikes": 5305
         },
         {
          "time": "2018-10-02T10:58:21.977623",
          "total_bikes": 5300
         },
         {
          "time": "2018-10-02T10:58:27.102595",
          "total_bikes": 5300
         },
         {
          "time": "2018-10-02T10:58:32.461438",
          "total_bikes": 5301
         },
         {
          "time": "2018-10-02T10:58:37.588641",
          "total_bikes": 5301
         },
         {
          "time": "2018-10-02T10:58:42.915519",
          "total_bikes": 5304
         },
         {
          "time": "2018-10-02T10:58:48.056377",
          "total_bikes": 5304
         },
         {
          "time": "2018-10-02T10:58:53.823020",
          "total_bikes": 5304
         },
         {
          "time": "2018-10-02T10:58:59.144055",
          "total_bikes": 5308
         },
         {
          "time": "2018-10-02T10:59:04.724798",
          "total_bikes": 5313
         },
         {
          "time": "2018-10-02T10:59:09.828472",
          "total_bikes": 5313
         },
         {
          "time": "2018-10-02T10:59:15.476153",
          "total_bikes": 5312
         },
         {
          "time": "2018-10-02T10:59:20.662730",
          "total_bikes": 5312
         },
         {
          "time": "2018-10-02T10:59:26.231505",
          "total_bikes": 5315
         },
         {
          "time": "2018-10-02T10:59:31.399548",
          "total_bikes": 5315
         },
         {
          "time": "2018-10-02T10:59:36.712748",
          "total_bikes": 5317
         },
         {
          "time": "2018-10-02T10:59:41.825159",
          "total_bikes": 5317
         },
         {
          "time": "2018-10-02T10:59:47.141417",
          "total_bikes": 5320
         },
         {
          "time": "2018-10-02T10:59:52.260570",
          "total_bikes": 5320
         },
         {
          "time": "2018-10-02T10:59:57.981571",
          "total_bikes": 5325
         },
         {
          "time": "2018-10-02T11:00:03.434309",
          "total_bikes": 5325
         },
         {
          "time": "2018-10-02T11:00:08.767879",
          "total_bikes": 5328
         },
         {
          "time": "2018-10-02T11:00:13.912649",
          "total_bikes": 5328
         },
         {
          "time": "2018-10-02T11:00:19.257536",
          "total_bikes": 5336
         },
         {
          "time": "2018-10-02T11:00:24.410086",
          "total_bikes": 5336
         },
         {
          "time": "2018-10-02T11:00:29.728662",
          "total_bikes": 5338
         },
         {
          "time": "2018-10-02T11:00:34.853379",
          "total_bikes": 5338
         },
         {
          "time": "2018-10-02T11:00:40.368916",
          "total_bikes": 5343
         },
         {
          "time": "2018-10-02T11:00:45.505169",
          "total_bikes": 5343
         },
         {
          "time": "2018-10-02T11:00:50.823449",
          "total_bikes": 5346
         },
         {
          "time": "2018-10-02T11:00:55.975882",
          "total_bikes": 5346
         },
         {
          "time": "2018-10-02T11:01:01.962418",
          "total_bikes": 5338
         },
         {
          "time": "2018-10-02T11:01:07.105684",
          "total_bikes": 5338
         },
         {
          "time": "2018-10-02T11:01:12.449169",
          "total_bikes": 5338
         },
         {
          "time": "2018-10-02T11:01:17.808557",
          "total_bikes": 5337
         },
         {
          "time": "2018-10-02T11:01:23.145298",
          "total_bikes": 5336
         },
         {
          "time": "2018-10-02T11:01:28.300397",
          "total_bikes": 5336
         },
         {
          "time": "2018-10-02T11:01:33.848092",
          "total_bikes": 5341
         },
         {
          "time": "2018-10-02T11:01:38.991954",
          "total_bikes": 5341
         },
         {
          "time": "2018-10-02T11:01:44.550710",
          "total_bikes": 5343
         },
         {
          "time": "2018-10-02T11:01:49.698170",
          "total_bikes": 5343
         },
         {
          "time": "2018-10-02T11:01:55.030596",
          "total_bikes": 5343
         },
         {
          "time": "2018-10-02T11:02:00.409682",
          "total_bikes": 5339
         },
         {
          "time": "2018-10-02T11:02:06.187588",
          "total_bikes": 5339
         },
         {
          "time": "2018-10-02T11:02:11.523655",
          "total_bikes": 5342
         },
         {
          "time": "2018-10-02T11:02:16.864015",
          "total_bikes": 5342
         },
         {
          "time": "2018-10-02T11:02:22.195361",
          "total_bikes": 5337
         },
         {
          "time": "2018-10-02T11:02:27.516217",
          "total_bikes": 5337
         },
         {
          "time": "2018-10-02T11:02:32.837796",
          "total_bikes": 5349
         },
         {
          "time": "2018-10-02T11:02:37.950064",
          "total_bikes": 5349
         },
         {
          "time": "2018-10-02T11:02:43.121704",
          "total_bikes": 5351
         },
         {
          "time": "2018-10-02T11:02:48.487025",
          "total_bikes": 5349
         },
         {
          "time": "2018-10-02T11:02:53.627212",
          "total_bikes": 5349
         },
         {
          "time": "2018-10-02T11:02:58.960839",
          "total_bikes": 5349
         },
         {
          "time": "2018-10-02T11:03:04.142847",
          "total_bikes": 5349
         },
         {
          "time": "2018-10-02T11:03:09.710997",
          "total_bikes": 5349
         },
         {
          "time": "2018-10-02T11:03:15.062372",
          "total_bikes": 5350
         },
         {
          "time": "2018-10-02T11:03:20.252554",
          "total_bikes": 5350
         },
         {
          "time": "2018-10-02T11:03:25.608244",
          "total_bikes": 5348
         },
         {
          "time": "2018-10-02T11:03:30.750812",
          "total_bikes": 5348
         },
         {
          "time": "2018-10-02T11:03:36.079223",
          "total_bikes": 5342
         },
         {
          "time": "2018-10-02T11:03:41.218289",
          "total_bikes": 5342
         },
         {
          "time": "2018-10-02T11:03:46.546141",
          "total_bikes": 5338
         },
         {
          "time": "2018-10-02T11:03:51.682395",
          "total_bikes": 5338
         },
         {
          "time": "2018-10-02T11:03:57.026420",
          "total_bikes": 5338
         },
         {
          "time": "2018-10-02T11:04:02.160895",
          "total_bikes": 5338
         },
         {
          "time": "2018-10-02T11:04:07.485292",
          "total_bikes": 5336
         },
         {
          "time": "2018-10-02T11:04:13.034617",
          "total_bikes": 5336
         },
         {
          "time": "2018-10-02T11:04:18.646132",
          "total_bikes": 5344
         },
         {
          "time": "2018-10-02T11:04:23.790404",
          "total_bikes": 5344
         },
         {
          "time": "2018-10-02T11:04:29.335428",
          "total_bikes": 5347
         },
         {
          "time": "2018-10-02T11:04:34.464757",
          "total_bikes": 5347
         },
         {
          "time": "2018-10-02T11:04:40.086331",
          "total_bikes": 5345
         },
         {
          "time": "2018-10-02T11:04:45.232199",
          "total_bikes": 5345
         },
         {
          "time": "2018-10-02T11:04:50.577408",
          "total_bikes": 5345
         },
         {
          "time": "2018-10-02T11:04:55.896567",
          "total_bikes": 5346
         },
         {
          "time": "2018-10-02T11:05:01.158595",
          "total_bikes": 5346
         },
         {
          "time": "2018-10-02T11:05:06.314714",
          "total_bikes": 5350
         },
         {
          "time": "2018-10-02T11:05:11.550347",
          "total_bikes": 5350
         },
         {
          "time": "2018-10-02T11:05:17.302050",
          "total_bikes": 5351
         },
         {
          "time": "2018-10-02T11:05:22.626266",
          "total_bikes": 5351
         },
         {
          "time": "2018-10-02T11:05:27.988695",
          "total_bikes": 5352
         },
         {
          "time": "2018-10-02T11:05:33.119010",
          "total_bikes": 5352
         },
         {
          "time": "2018-10-02T11:05:38.642475",
          "total_bikes": 5349
         },
         {
          "time": "2018-10-02T11:05:43.762124",
          "total_bikes": 5349
         },
         {
          "time": "2018-10-02T11:05:49.102900",
          "total_bikes": 5344
         },
         {
          "time": "2018-10-02T11:05:54.241653",
          "total_bikes": 5344
         },
         {
          "time": "2018-10-02T11:05:59.401970",
          "total_bikes": 5347
         },
         {
          "time": "2018-10-02T11:06:04.540879",
          "total_bikes": 5347
         },
         {
          "time": "2018-10-02T11:06:09.944576",
          "total_bikes": 5350
         },
         {
          "time": "2018-10-02T11:06:15.084339",
          "total_bikes": 5350
         },
         {
          "time": "2018-10-02T11:06:21.038606",
          "total_bikes": 5353
         },
         {
          "time": "2018-10-02T11:06:26.171002",
          "total_bikes": 5353
         },
         {
          "time": "2018-10-02T11:06:31.515056",
          "total_bikes": 5352
         },
         {
          "time": "2018-10-02T11:06:36.617724",
          "total_bikes": 5352
         },
         {
          "time": "2018-10-02T11:06:42.342948",
          "total_bikes": 5349
         },
         {
          "time": "2018-10-02T11:06:47.504706",
          "total_bikes": 5349
         },
         {
          "time": "2018-10-02T11:06:52.804821",
          "total_bikes": 5341
         },
         {
          "time": "2018-10-02T11:06:57.917795",
          "total_bikes": 5341
         },
         {
          "time": "2018-10-02T11:07:03.060250",
          "total_bikes": 5335
         },
         {
          "time": "2018-10-02T11:07:08.186994",
          "total_bikes": 5335
         },
         {
          "time": "2018-10-02T11:07:13.528904",
          "total_bikes": 5334
         },
         {
          "time": "2018-10-02T11:07:18.658578",
          "total_bikes": 5334
         },
         {
          "time": "2018-10-02T11:07:24.645037",
          "total_bikes": 5337
         },
         {
          "time": "2018-10-02T11:07:29.767504",
          "total_bikes": 5337
         },
         {
          "time": "2018-10-02T11:07:34.992578",
          "total_bikes": 5347
         },
         {
          "time": "2018-10-02T11:07:40.100979",
          "total_bikes": 5347
         },
         {
          "time": "2018-10-02T11:07:45.390108",
          "total_bikes": 5347
         },
         {
          "time": "2018-10-02T11:07:50.707812",
          "total_bikes": 5351
         },
         {
          "time": "2018-10-02T11:07:55.823616",
          "total_bikes": 5351
         },
         {
          "time": "2018-10-02T11:08:01.065707",
          "total_bikes": 5350
         },
         {
          "time": "2018-10-02T11:08:06.194449",
          "total_bikes": 5350
         },
         {
          "time": "2018-10-02T11:08:11.756815",
          "total_bikes": 5350
         },
         {
          "time": "2018-10-02T11:08:16.865759",
          "total_bikes": 5350
         },
         {
          "time": "2018-10-02T11:08:22.172040",
          "total_bikes": 5350
         },
         {
          "time": "2018-10-02T11:08:27.763571",
          "total_bikes": 5350
         },
         {
          "time": "2018-10-02T11:08:33.664895",
          "total_bikes": 5362
         },
         {
          "time": "2018-10-02T11:08:38.816299",
          "total_bikes": 5362
         },
         {
          "time": "2018-10-02T11:08:44.521671",
          "total_bikes": 5362
         },
         {
          "time": "2018-10-02T11:08:49.682616",
          "total_bikes": 5362
         },
         {
          "time": "2018-10-02T11:08:55.030082",
          "total_bikes": 5360
         },
         {
          "time": "2018-10-02T11:09:00.183043",
          "total_bikes": 5360
         },
         {
          "time": "2018-10-02T11:09:05.715650",
          "total_bikes": 5357
         },
         {
          "time": "2018-10-02T11:09:10.874302",
          "total_bikes": 5357
         },
         {
          "time": "2018-10-02T11:09:16.472558",
          "total_bikes": 5353
         },
         {
          "time": "2018-10-02T11:09:21.637568",
          "total_bikes": 5353
         },
         {
          "time": "2018-10-02T11:09:27.021458",
          "total_bikes": 5353
         },
         {
          "time": "2018-10-02T11:09:32.393630",
          "total_bikes": 5357
         },
         {
          "time": "2018-10-02T11:09:37.554827",
          "total_bikes": 5357
         },
         {
          "time": "2018-10-02T11:09:42.913035",
          "total_bikes": 5357
         },
         {
          "time": "2018-10-02T11:09:48.093474",
          "total_bikes": 5357
         },
         {
          "time": "2018-10-02T11:09:53.464119",
          "total_bikes": 5353
         },
         {
          "time": "2018-10-02T11:09:58.615877",
          "total_bikes": 5353
         },
         {
          "time": "2018-10-02T11:10:03.778065",
          "total_bikes": 5338
         },
         {
          "time": "2018-10-02T11:10:08.938952",
          "total_bikes": 5338
         },
         {
          "time": "2018-10-02T11:10:14.304078",
          "total_bikes": 5341
         },
         {
          "time": "2018-10-02T11:10:19.463165",
          "total_bikes": 5341
         },
         {
          "time": "2018-10-02T11:10:24.807007",
          "total_bikes": 5342
         },
         {
          "time": "2018-10-02T11:10:29.972507",
          "total_bikes": 5342
         }
        ]
       },
       "encoding": {
        "x": {
         "axis": {
          "title": "Time"
         },
         "field": "time",
         "type": "temporal"
        },
        "y": {
         "axis": {
          "title": "Total Available Bikes"
         },
         "field": "total_bikes",
         "scale": {
          "zero": false
         },
         "type": "quantitative"
        }
       },
       "mark": "line",
       "title": "Total Available CitiBikes in New York"
      },
      "image/png": "[encoded data removed]",
      "text/plain": [
       "<VegaLite 2 object>\n",
       "\n",
       "If you see this message, it means the renderer has not been properly enabled\n",
       "for the frontend that you are using. For more information, see\n",
       "https://altair-viz.github.io/user_guide/troubleshooting.html\n"
      ]
     },
     "metadata": {},
     "output_type": "display_data"
    }
   ],
   "source": [
    "# This line introduces the data dependency of this cell on the data generating cell above\n",
    "full_data_feed.append(bike_data_item)\n",
    "\n",
    "print(f\"{len(full_data_feed)} items\")\n",
    "\n",
    "plot(full_data_feed, full_data_feed[0]['total_bikes'])"
   ]
  }
 ],
 "metadata": {
  "kernelspec": {
   "display_name": "Reactive Python",
   "language": "python",
   "name": "reactivepy"
  },
  "language_info": {
   "file_extension": ".py",
   "mimetype": "text/x-python",
   "name": "python",
   "nbconvert_exporter": "python",
   "version": "3.6.6"
  }
 },
 "nbformat": 4,
 "nbformat_minor": 2
}
